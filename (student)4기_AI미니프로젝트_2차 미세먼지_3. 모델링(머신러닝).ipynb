{
 "cells": [
  {
   "cell_type": "code",
   "execution_count": 103,
   "id": "efficient-minutes",
   "metadata": {
    "tags": []
   },
   "outputs": [],
   "source": [
    "# 필요한 라이브러리 설치 및 임포트\n",
    "\n",
    "import pandas as pd\n",
    "\n",
    "from sklearn.neighbors import KNeighborsRegressor\n",
    "from sklearn.linear_model import LinearRegression, Lasso, Ridge, ElasticNet\n",
    "from sklearn.tree import DecisionTreeRegressor as DTR\n",
    "from sklearn.ensemble import RandomForestRegressor as RFR\n",
    "from sklearn.ensemble import GradientBoostingRegressor as GBR\n",
    "from sklearn.metrics import mean_squared_error as mse\n",
    "from sklearn.metrics import r2_score\n",
    "from sklearn.metrics import f1_score\n",
    "from sklearn.metrics import accuracy_score as acc\n",
    "from sklearn.metrics import recall_score as recall\n",
    "import joblib\n",
    "from sklearn.model_selection import cross_val_score"
   ]
  },
  {
   "cell_type": "markdown",
   "id": "20aaca37-89d7-4045-affa-5a510c69495e",
   "metadata": {
    "tags": []
   },
   "source": [
    "# [Step 3] 머신러닝 모델링1"
   ]
  },
  {
   "cell_type": "markdown",
   "id": "1a3f4996-4681-4eae-b839-8ad6267387ae",
   "metadata": {
    "tags": []
   },
   "source": [
    "#### **<span style=\"color:blue\">[3-1] 학습 및 테스트 데이터 로딩</span>**"
   ]
  },
  {
   "cell_type": "code",
   "execution_count": 77,
   "id": "changed-arrangement",
   "metadata": {
    "scrolled": true,
    "tags": []
   },
   "outputs": [],
   "source": [
    "# train_x.csv / train_y.csv / test_x.csv / test_y.csv 4개의 데이터 로딩\n",
    "\n",
    "x_train = pd.read_csv('train_x.csv')\n",
    "y_train = pd.read_csv('train_y.csv')\n",
    "x_test = pd.read_csv('test_x.csv')\n",
    "y_test = pd.read_csv('test_y.csv')"
   ]
  },
  {
   "cell_type": "code",
   "execution_count": 79,
   "id": "1abb38a1-27d9-4e41-9ea2-d86aa4bcdce3",
   "metadata": {},
   "outputs": [],
   "source": [
    "x_test.drop('Unnamed: 0', axis=1, inplace=True)\n",
    "x_train.drop('Unnamed: 0', axis=1, inplace=True)\n",
    "y_test.drop('Unnamed: 0', axis=1, inplace=True)\n",
    "y_train.drop('Unnamed: 0', axis=1, inplace=True)"
   ]
  },
  {
   "cell_type": "code",
   "execution_count": 80,
   "id": "48a0c81a-88f5-4486-8fbd-37ab45bf8caa",
   "metadata": {
    "tags": []
   },
   "outputs": [
    {
     "data": {
      "text/html": [
       "<div>\n",
       "<style scoped>\n",
       "    .dataframe tbody tr th:only-of-type {\n",
       "        vertical-align: middle;\n",
       "    }\n",
       "\n",
       "    .dataframe tbody tr th {\n",
       "        vertical-align: top;\n",
       "    }\n",
       "\n",
       "    .dataframe thead th {\n",
       "        text-align: right;\n",
       "    }\n",
       "</style>\n",
       "<table border=\"1\" class=\"dataframe\">\n",
       "  <thead>\n",
       "    <tr style=\"text-align: right;\">\n",
       "      <th></th>\n",
       "      <th>PM10</th>\n",
       "      <th>PM25</th>\n",
       "      <th>기온(°C)</th>\n",
       "      <th>풍향(16방위)</th>\n",
       "      <th>습도(%)</th>\n",
       "      <th>증기압(hPa)</th>\n",
       "      <th>일조(hr)</th>\n",
       "      <th>전운량(10분위)</th>\n",
       "      <th>중하층운량(10분위)</th>\n",
       "      <th>시정(10m)</th>\n",
       "      <th>지면온도(°C)</th>\n",
       "      <th>10cm 지중온도(°C)</th>\n",
       "      <th>month</th>\n",
       "      <th>PM10_lag1</th>\n",
       "    </tr>\n",
       "  </thead>\n",
       "  <tbody>\n",
       "    <tr>\n",
       "      <th>PM10</th>\n",
       "      <td>1.000000</td>\n",
       "      <td>0.675537</td>\n",
       "      <td>-0.125976</td>\n",
       "      <td>0.100598</td>\n",
       "      <td>-0.062728</td>\n",
       "      <td>-0.203516</td>\n",
       "      <td>0.031409</td>\n",
       "      <td>-0.099248</td>\n",
       "      <td>-0.086809</td>\n",
       "      <td>-0.354747</td>\n",
       "      <td>-0.138677</td>\n",
       "      <td>-0.184603</td>\n",
       "      <td>-0.167232</td>\n",
       "      <td>0.311748</td>\n",
       "    </tr>\n",
       "    <tr>\n",
       "      <th>PM25</th>\n",
       "      <td>0.675537</td>\n",
       "      <td>1.000000</td>\n",
       "      <td>-0.175209</td>\n",
       "      <td>0.088466</td>\n",
       "      <td>0.000087</td>\n",
       "      <td>-0.226776</td>\n",
       "      <td>-0.025579</td>\n",
       "      <td>-0.046220</td>\n",
       "      <td>-0.076331</td>\n",
       "      <td>-0.515618</td>\n",
       "      <td>-0.223101</td>\n",
       "      <td>-0.285055</td>\n",
       "      <td>-0.124318</td>\n",
       "      <td>0.255371</td>\n",
       "    </tr>\n",
       "    <tr>\n",
       "      <th>기온(°C)</th>\n",
       "      <td>-0.125976</td>\n",
       "      <td>-0.175209</td>\n",
       "      <td>1.000000</td>\n",
       "      <td>-0.181722</td>\n",
       "      <td>0.145338</td>\n",
       "      <td>0.881618</td>\n",
       "      <td>0.093765</td>\n",
       "      <td>0.307818</td>\n",
       "      <td>0.153545</td>\n",
       "      <td>0.068274</td>\n",
       "      <td>0.946661</td>\n",
       "      <td>0.938482</td>\n",
       "      <td>0.218436</td>\n",
       "      <td>-0.144524</td>\n",
       "    </tr>\n",
       "    <tr>\n",
       "      <th>풍향(16방위)</th>\n",
       "      <td>0.100598</td>\n",
       "      <td>0.088466</td>\n",
       "      <td>-0.181722</td>\n",
       "      <td>1.000000</td>\n",
       "      <td>-0.200931</td>\n",
       "      <td>-0.189205</td>\n",
       "      <td>0.079040</td>\n",
       "      <td>-0.177082</td>\n",
       "      <td>-0.095189</td>\n",
       "      <td>0.025609</td>\n",
       "      <td>-0.138436</td>\n",
       "      <td>-0.153320</td>\n",
       "      <td>-0.041551</td>\n",
       "      <td>0.099027</td>\n",
       "    </tr>\n",
       "    <tr>\n",
       "      <th>습도(%)</th>\n",
       "      <td>-0.062728</td>\n",
       "      <td>0.000087</td>\n",
       "      <td>0.145338</td>\n",
       "      <td>-0.200931</td>\n",
       "      <td>1.000000</td>\n",
       "      <td>0.450806</td>\n",
       "      <td>-0.513351</td>\n",
       "      <td>0.362110</td>\n",
       "      <td>0.379947</td>\n",
       "      <td>-0.501741</td>\n",
       "      <td>0.055299</td>\n",
       "      <td>0.248468</td>\n",
       "      <td>0.195309</td>\n",
       "      <td>-0.135636</td>\n",
       "    </tr>\n",
       "    <tr>\n",
       "      <th>증기압(hPa)</th>\n",
       "      <td>-0.203516</td>\n",
       "      <td>-0.226776</td>\n",
       "      <td>0.881618</td>\n",
       "      <td>-0.189205</td>\n",
       "      <td>0.450806</td>\n",
       "      <td>1.000000</td>\n",
       "      <td>-0.107032</td>\n",
       "      <td>0.357037</td>\n",
       "      <td>0.239898</td>\n",
       "      <td>-0.038121</td>\n",
       "      <td>0.830627</td>\n",
       "      <td>0.915059</td>\n",
       "      <td>0.251851</td>\n",
       "      <td>-0.225251</td>\n",
       "    </tr>\n",
       "    <tr>\n",
       "      <th>일조(hr)</th>\n",
       "      <td>0.031409</td>\n",
       "      <td>-0.025579</td>\n",
       "      <td>0.093765</td>\n",
       "      <td>0.079040</td>\n",
       "      <td>-0.513351</td>\n",
       "      <td>-0.107032</td>\n",
       "      <td>1.000000</td>\n",
       "      <td>-0.400436</td>\n",
       "      <td>-0.367237</td>\n",
       "      <td>0.222798</td>\n",
       "      <td>0.262351</td>\n",
       "      <td>-0.029603</td>\n",
       "      <td>-0.037107</td>\n",
       "      <td>0.044928</td>\n",
       "    </tr>\n",
       "    <tr>\n",
       "      <th>전운량(10분위)</th>\n",
       "      <td>-0.099248</td>\n",
       "      <td>-0.046220</td>\n",
       "      <td>0.307818</td>\n",
       "      <td>-0.177082</td>\n",
       "      <td>0.362110</td>\n",
       "      <td>0.357037</td>\n",
       "      <td>-0.400436</td>\n",
       "      <td>1.000000</td>\n",
       "      <td>0.748671</td>\n",
       "      <td>-0.240803</td>\n",
       "      <td>0.248438</td>\n",
       "      <td>0.265382</td>\n",
       "      <td>0.012034</td>\n",
       "      <td>-0.095953</td>\n",
       "    </tr>\n",
       "    <tr>\n",
       "      <th>중하층운량(10분위)</th>\n",
       "      <td>-0.086809</td>\n",
       "      <td>-0.076331</td>\n",
       "      <td>0.153545</td>\n",
       "      <td>-0.095189</td>\n",
       "      <td>0.379947</td>\n",
       "      <td>0.239898</td>\n",
       "      <td>-0.367237</td>\n",
       "      <td>0.748671</td>\n",
       "      <td>1.000000</td>\n",
       "      <td>-0.271169</td>\n",
       "      <td>0.115374</td>\n",
       "      <td>0.133205</td>\n",
       "      <td>0.006990</td>\n",
       "      <td>-0.078384</td>\n",
       "    </tr>\n",
       "    <tr>\n",
       "      <th>시정(10m)</th>\n",
       "      <td>-0.354747</td>\n",
       "      <td>-0.515618</td>\n",
       "      <td>0.068274</td>\n",
       "      <td>0.025609</td>\n",
       "      <td>-0.501741</td>\n",
       "      <td>-0.038121</td>\n",
       "      <td>0.222798</td>\n",
       "      <td>-0.240803</td>\n",
       "      <td>-0.271169</td>\n",
       "      <td>1.000000</td>\n",
       "      <td>0.110660</td>\n",
       "      <td>0.092940</td>\n",
       "      <td>0.062339</td>\n",
       "      <td>-0.120017</td>\n",
       "    </tr>\n",
       "    <tr>\n",
       "      <th>지면온도(°C)</th>\n",
       "      <td>-0.138677</td>\n",
       "      <td>-0.223101</td>\n",
       "      <td>0.946661</td>\n",
       "      <td>-0.138436</td>\n",
       "      <td>0.055299</td>\n",
       "      <td>0.830627</td>\n",
       "      <td>0.262351</td>\n",
       "      <td>0.248438</td>\n",
       "      <td>0.115374</td>\n",
       "      <td>0.110660</td>\n",
       "      <td>1.000000</td>\n",
       "      <td>0.898366</td>\n",
       "      <td>0.204206</td>\n",
       "      <td>-0.148156</td>\n",
       "    </tr>\n",
       "    <tr>\n",
       "      <th>10cm 지중온도(°C)</th>\n",
       "      <td>-0.184603</td>\n",
       "      <td>-0.285055</td>\n",
       "      <td>0.938482</td>\n",
       "      <td>-0.153320</td>\n",
       "      <td>0.248468</td>\n",
       "      <td>0.915059</td>\n",
       "      <td>-0.029603</td>\n",
       "      <td>0.265382</td>\n",
       "      <td>0.133205</td>\n",
       "      <td>0.092940</td>\n",
       "      <td>0.898366</td>\n",
       "      <td>1.000000</td>\n",
       "      <td>0.299432</td>\n",
       "      <td>-0.182159</td>\n",
       "    </tr>\n",
       "    <tr>\n",
       "      <th>month</th>\n",
       "      <td>-0.167232</td>\n",
       "      <td>-0.124318</td>\n",
       "      <td>0.218436</td>\n",
       "      <td>-0.041551</td>\n",
       "      <td>0.195309</td>\n",
       "      <td>0.251851</td>\n",
       "      <td>-0.037107</td>\n",
       "      <td>0.012034</td>\n",
       "      <td>0.006990</td>\n",
       "      <td>0.062339</td>\n",
       "      <td>0.204206</td>\n",
       "      <td>0.299432</td>\n",
       "      <td>1.000000</td>\n",
       "      <td>-0.165779</td>\n",
       "    </tr>\n",
       "    <tr>\n",
       "      <th>PM10_lag1</th>\n",
       "      <td>0.311748</td>\n",
       "      <td>0.255371</td>\n",
       "      <td>-0.144524</td>\n",
       "      <td>0.099027</td>\n",
       "      <td>-0.135636</td>\n",
       "      <td>-0.225251</td>\n",
       "      <td>0.044928</td>\n",
       "      <td>-0.095953</td>\n",
       "      <td>-0.078384</td>\n",
       "      <td>-0.120017</td>\n",
       "      <td>-0.148156</td>\n",
       "      <td>-0.182159</td>\n",
       "      <td>-0.165779</td>\n",
       "      <td>1.000000</td>\n",
       "    </tr>\n",
       "  </tbody>\n",
       "</table>\n",
       "</div>"
      ],
      "text/plain": [
       "                   PM10      PM25    기온(°C)  풍향(16방위)     습도(%)  증기압(hPa)  \\\n",
       "PM10           1.000000  0.675537 -0.125976  0.100598 -0.062728 -0.203516   \n",
       "PM25           0.675537  1.000000 -0.175209  0.088466  0.000087 -0.226776   \n",
       "기온(°C)        -0.125976 -0.175209  1.000000 -0.181722  0.145338  0.881618   \n",
       "풍향(16방위)       0.100598  0.088466 -0.181722  1.000000 -0.200931 -0.189205   \n",
       "습도(%)         -0.062728  0.000087  0.145338 -0.200931  1.000000  0.450806   \n",
       "증기압(hPa)      -0.203516 -0.226776  0.881618 -0.189205  0.450806  1.000000   \n",
       "일조(hr)         0.031409 -0.025579  0.093765  0.079040 -0.513351 -0.107032   \n",
       "전운량(10분위)     -0.099248 -0.046220  0.307818 -0.177082  0.362110  0.357037   \n",
       "중하층운량(10분위)   -0.086809 -0.076331  0.153545 -0.095189  0.379947  0.239898   \n",
       "시정(10m)       -0.354747 -0.515618  0.068274  0.025609 -0.501741 -0.038121   \n",
       "지면온도(°C)      -0.138677 -0.223101  0.946661 -0.138436  0.055299  0.830627   \n",
       "10cm 지중온도(°C) -0.184603 -0.285055  0.938482 -0.153320  0.248468  0.915059   \n",
       "month         -0.167232 -0.124318  0.218436 -0.041551  0.195309  0.251851   \n",
       "PM10_lag1      0.311748  0.255371 -0.144524  0.099027 -0.135636 -0.225251   \n",
       "\n",
       "                 일조(hr)  전운량(10분위)  중하층운량(10분위)   시정(10m)  지면온도(°C)  \\\n",
       "PM10           0.031409  -0.099248    -0.086809 -0.354747 -0.138677   \n",
       "PM25          -0.025579  -0.046220    -0.076331 -0.515618 -0.223101   \n",
       "기온(°C)         0.093765   0.307818     0.153545  0.068274  0.946661   \n",
       "풍향(16방위)       0.079040  -0.177082    -0.095189  0.025609 -0.138436   \n",
       "습도(%)         -0.513351   0.362110     0.379947 -0.501741  0.055299   \n",
       "증기압(hPa)      -0.107032   0.357037     0.239898 -0.038121  0.830627   \n",
       "일조(hr)         1.000000  -0.400436    -0.367237  0.222798  0.262351   \n",
       "전운량(10분위)     -0.400436   1.000000     0.748671 -0.240803  0.248438   \n",
       "중하층운량(10분위)   -0.367237   0.748671     1.000000 -0.271169  0.115374   \n",
       "시정(10m)        0.222798  -0.240803    -0.271169  1.000000  0.110660   \n",
       "지면온도(°C)       0.262351   0.248438     0.115374  0.110660  1.000000   \n",
       "10cm 지중온도(°C) -0.029603   0.265382     0.133205  0.092940  0.898366   \n",
       "month         -0.037107   0.012034     0.006990  0.062339  0.204206   \n",
       "PM10_lag1      0.044928  -0.095953    -0.078384 -0.120017 -0.148156   \n",
       "\n",
       "               10cm 지중온도(°C)     month  PM10_lag1  \n",
       "PM10               -0.184603 -0.167232   0.311748  \n",
       "PM25               -0.285055 -0.124318   0.255371  \n",
       "기온(°C)              0.938482  0.218436  -0.144524  \n",
       "풍향(16방위)           -0.153320 -0.041551   0.099027  \n",
       "습도(%)               0.248468  0.195309  -0.135636  \n",
       "증기압(hPa)            0.915059  0.251851  -0.225251  \n",
       "일조(hr)             -0.029603 -0.037107   0.044928  \n",
       "전운량(10분위)           0.265382  0.012034  -0.095953  \n",
       "중하층운량(10분위)         0.133205  0.006990  -0.078384  \n",
       "시정(10m)             0.092940  0.062339  -0.120017  \n",
       "지면온도(°C)            0.898366  0.204206  -0.148156  \n",
       "10cm 지중온도(°C)       1.000000  0.299432  -0.182159  \n",
       "month               0.299432  1.000000  -0.165779  \n",
       "PM10_lag1          -0.182159 -0.165779   1.000000  "
      ]
     },
     "execution_count": 80,
     "metadata": {},
     "output_type": "execute_result"
    }
   ],
   "source": [
    "x_train.corr()"
   ]
  },
  {
   "cell_type": "code",
   "execution_count": 81,
   "id": "5a5e0cd3-7dd3-4e12-a03b-e6a73401850d",
   "metadata": {
    "tags": []
   },
   "outputs": [
    {
     "data": {
      "text/html": [
       "<div>\n",
       "<style scoped>\n",
       "    .dataframe tbody tr th:only-of-type {\n",
       "        vertical-align: middle;\n",
       "    }\n",
       "\n",
       "    .dataframe tbody tr th {\n",
       "        vertical-align: top;\n",
       "    }\n",
       "\n",
       "    .dataframe thead th {\n",
       "        text-align: right;\n",
       "    }\n",
       "</style>\n",
       "<table border=\"1\" class=\"dataframe\">\n",
       "  <thead>\n",
       "    <tr style=\"text-align: right;\">\n",
       "      <th></th>\n",
       "      <th>PM10_1</th>\n",
       "    </tr>\n",
       "  </thead>\n",
       "  <tbody>\n",
       "    <tr>\n",
       "      <th>0</th>\n",
       "      <td>25.0</td>\n",
       "    </tr>\n",
       "    <tr>\n",
       "      <th>1</th>\n",
       "      <td>27.0</td>\n",
       "    </tr>\n",
       "    <tr>\n",
       "      <th>2</th>\n",
       "      <td>23.0</td>\n",
       "    </tr>\n",
       "    <tr>\n",
       "      <th>3</th>\n",
       "      <td>24.0</td>\n",
       "    </tr>\n",
       "    <tr>\n",
       "      <th>4</th>\n",
       "      <td>26.0</td>\n",
       "    </tr>\n",
       "    <tr>\n",
       "      <th>...</th>\n",
       "      <td>...</td>\n",
       "    </tr>\n",
       "    <tr>\n",
       "      <th>8755</th>\n",
       "      <td>27.0</td>\n",
       "    </tr>\n",
       "    <tr>\n",
       "      <th>8756</th>\n",
       "      <td>20.0</td>\n",
       "    </tr>\n",
       "    <tr>\n",
       "      <th>8757</th>\n",
       "      <td>20.0</td>\n",
       "    </tr>\n",
       "    <tr>\n",
       "      <th>8758</th>\n",
       "      <td>20.0</td>\n",
       "    </tr>\n",
       "    <tr>\n",
       "      <th>8759</th>\n",
       "      <td>20.0</td>\n",
       "    </tr>\n",
       "  </tbody>\n",
       "</table>\n",
       "<p>8760 rows × 1 columns</p>\n",
       "</div>"
      ],
      "text/plain": [
       "      PM10_1\n",
       "0       25.0\n",
       "1       27.0\n",
       "2       23.0\n",
       "3       24.0\n",
       "4       26.0\n",
       "...      ...\n",
       "8755    27.0\n",
       "8756    20.0\n",
       "8757    20.0\n",
       "8758    20.0\n",
       "8759    20.0\n",
       "\n",
       "[8760 rows x 1 columns]"
      ]
     },
     "execution_count": 81,
     "metadata": {},
     "output_type": "execute_result"
    }
   ],
   "source": [
    "y_train"
   ]
  },
  {
   "cell_type": "markdown",
   "id": "66dca0e8-a0d1-4562-8afe-3e8f85733393",
   "metadata": {
    "tags": []
   },
   "source": [
    "#### **<span style=\"color:blue\">[3-2] 모델링: LinearRegression</span>**"
   ]
  },
  {
   "cell_type": "markdown",
   "id": "joined-client",
   "metadata": {},
   "source": [
    "* Train과 Test로 나눈 데이터를 기준으로 LinearRegression 모델링을 진행하고 평가를 해주세요.\n",
    "* 그리고 모델 파일을 pkl로 저장해주세요.\n",
    "* 성능지표 : MSE, R-squared Score(소수점 5째자리까지)"
   ]
  },
  {
   "cell_type": "code",
   "execution_count": 82,
   "id": "willing-disclaimer",
   "metadata": {
    "tags": []
   },
   "outputs": [
    {
     "data": {
      "text/html": [
       "<style>#sk-container-id-7 {color: black;background-color: white;}#sk-container-id-7 pre{padding: 0;}#sk-container-id-7 div.sk-toggleable {background-color: white;}#sk-container-id-7 label.sk-toggleable__label {cursor: pointer;display: block;width: 100%;margin-bottom: 0;padding: 0.3em;box-sizing: border-box;text-align: center;}#sk-container-id-7 label.sk-toggleable__label-arrow:before {content: \"▸\";float: left;margin-right: 0.25em;color: #696969;}#sk-container-id-7 label.sk-toggleable__label-arrow:hover:before {color: black;}#sk-container-id-7 div.sk-estimator:hover label.sk-toggleable__label-arrow:before {color: black;}#sk-container-id-7 div.sk-toggleable__content {max-height: 0;max-width: 0;overflow: hidden;text-align: left;background-color: #f0f8ff;}#sk-container-id-7 div.sk-toggleable__content pre {margin: 0.2em;color: black;border-radius: 0.25em;background-color: #f0f8ff;}#sk-container-id-7 input.sk-toggleable__control:checked~div.sk-toggleable__content {max-height: 200px;max-width: 100%;overflow: auto;}#sk-container-id-7 input.sk-toggleable__control:checked~label.sk-toggleable__label-arrow:before {content: \"▾\";}#sk-container-id-7 div.sk-estimator input.sk-toggleable__control:checked~label.sk-toggleable__label {background-color: #d4ebff;}#sk-container-id-7 div.sk-label input.sk-toggleable__control:checked~label.sk-toggleable__label {background-color: #d4ebff;}#sk-container-id-7 input.sk-hidden--visually {border: 0;clip: rect(1px 1px 1px 1px);clip: rect(1px, 1px, 1px, 1px);height: 1px;margin: -1px;overflow: hidden;padding: 0;position: absolute;width: 1px;}#sk-container-id-7 div.sk-estimator {font-family: monospace;background-color: #f0f8ff;border: 1px dotted black;border-radius: 0.25em;box-sizing: border-box;margin-bottom: 0.5em;}#sk-container-id-7 div.sk-estimator:hover {background-color: #d4ebff;}#sk-container-id-7 div.sk-parallel-item::after {content: \"\";width: 100%;border-bottom: 1px solid gray;flex-grow: 1;}#sk-container-id-7 div.sk-label:hover label.sk-toggleable__label {background-color: #d4ebff;}#sk-container-id-7 div.sk-serial::before {content: \"\";position: absolute;border-left: 1px solid gray;box-sizing: border-box;top: 0;bottom: 0;left: 50%;z-index: 0;}#sk-container-id-7 div.sk-serial {display: flex;flex-direction: column;align-items: center;background-color: white;padding-right: 0.2em;padding-left: 0.2em;position: relative;}#sk-container-id-7 div.sk-item {position: relative;z-index: 1;}#sk-container-id-7 div.sk-parallel {display: flex;align-items: stretch;justify-content: center;background-color: white;position: relative;}#sk-container-id-7 div.sk-item::before, #sk-container-id-7 div.sk-parallel-item::before {content: \"\";position: absolute;border-left: 1px solid gray;box-sizing: border-box;top: 0;bottom: 0;left: 50%;z-index: -1;}#sk-container-id-7 div.sk-parallel-item {display: flex;flex-direction: column;z-index: 1;position: relative;background-color: white;}#sk-container-id-7 div.sk-parallel-item:first-child::after {align-self: flex-end;width: 50%;}#sk-container-id-7 div.sk-parallel-item:last-child::after {align-self: flex-start;width: 50%;}#sk-container-id-7 div.sk-parallel-item:only-child::after {width: 0;}#sk-container-id-7 div.sk-dashed-wrapped {border: 1px dashed gray;margin: 0 0.4em 0.5em 0.4em;box-sizing: border-box;padding-bottom: 0.4em;background-color: white;}#sk-container-id-7 div.sk-label label {font-family: monospace;font-weight: bold;display: inline-block;line-height: 1.2em;}#sk-container-id-7 div.sk-label-container {text-align: center;}#sk-container-id-7 div.sk-container {/* jupyter's `normalize.less` sets `[hidden] { display: none; }` but bootstrap.min.css set `[hidden] { display: none !important; }` so we also need the `!important` here to be able to override the default hidden behavior on the sphinx rendered scikit-learn.org. See: https://github.com/scikit-learn/scikit-learn/issues/21755 */display: inline-block !important;position: relative;}#sk-container-id-7 div.sk-text-repr-fallback {display: none;}</style><div id=\"sk-container-id-7\" class=\"sk-top-container\"><div class=\"sk-text-repr-fallback\"><pre>LinearRegression()</pre><b>In a Jupyter environment, please rerun this cell to show the HTML representation or trust the notebook. <br />On GitHub, the HTML representation is unable to render, please try loading this page with nbviewer.org.</b></div><div class=\"sk-container\" hidden><div class=\"sk-item\"><div class=\"sk-estimator sk-toggleable\"><input class=\"sk-toggleable__control sk-hidden--visually\" id=\"sk-estimator-id-7\" type=\"checkbox\" checked><label for=\"sk-estimator-id-7\" class=\"sk-toggleable__label sk-toggleable__label-arrow\">LinearRegression</label><div class=\"sk-toggleable__content\"><pre>LinearRegression()</pre></div></div></div></div></div>"
      ],
      "text/plain": [
       "LinearRegression()"
      ]
     },
     "execution_count": 82,
     "metadata": {},
     "output_type": "execute_result"
    }
   ],
   "source": [
    "# LinearRegression 코드를 작성하세요.\n",
    "model = LinearRegression()\n",
    "model.fit(x_train, y_train)"
   ]
  },
  {
   "cell_type": "code",
   "execution_count": 83,
   "id": "34e3d420-703f-4de5-bd81-4b1b167318e2",
   "metadata": {
    "tags": []
   },
   "outputs": [],
   "source": [
    "# predict로 예측하여 y_pred_LR에 저장해보세요.\n",
    "y_pred_LR = model.predict(x_test)"
   ]
  },
  {
   "cell_type": "code",
   "execution_count": 84,
   "id": "0a21d60f",
   "metadata": {
    "tags": []
   },
   "outputs": [
    {
     "name": "stdout",
     "output_type": "stream",
     "text": [
      "38.34323550007481 0.93085\n"
     ]
    }
   ],
   "source": [
    "# test_y 데이터와 y_pred_LR 데이터로 성능을 평가하여 출력해보세요.\n",
    "# 성능지표는 mse와 r2를 이용하세요.\n",
    "print(mse(y_test, y_pred_LR), round(r2_score(y_test, y_pred_LR), 5))"
   ]
  },
  {
   "cell_type": "code",
   "execution_count": 6,
   "id": "fe2096b7",
   "metadata": {},
   "outputs": [],
   "source": [
    "# 학습한 모델을 pkl 파일로 저장해보세요.\n",
    "\n",
    "\n"
   ]
  },
  {
   "cell_type": "markdown",
   "id": "44e1265e-939a-41d6-87cd-98211da2b7d1",
   "metadata": {
    "tags": []
   },
   "source": [
    "# [Step 4] 머신러닝 모델링2"
   ]
  },
  {
   "cell_type": "markdown",
   "id": "093d7a22-50bd-401d-9655-30002e8b5985",
   "metadata": {
    "tags": []
   },
   "source": [
    "#### **<span style=\"color:blue\">(선택 수행)[4-1] 모델링: 랜덤포레스트</span>**"
   ]
  },
  {
   "cell_type": "markdown",
   "id": "crazy-escape",
   "metadata": {},
   "source": [
    "* 랜덤포레스트: 배깅의 일종으로 의사결정나무(Decision Tree) 여러 개를 모아서 숲을 랜덤으로 구성하고 이를 종합해서 최종 모델을 산출하는 기법\n",
    "* Train과 Test로 나눈 데이터를 기준으로 렌덤포레스트로 모델을 학습을 진행하고 평가를 해주세요.\n",
    "* 그리고 모델 파일을 pkl로 저장해주세요.\n",
    "* 성능지표 : MSE, R-squared Score(소수점 5째자리까지)"
   ]
  },
  {
   "cell_type": "code",
   "execution_count": 85,
   "id": "guilty-score",
   "metadata": {
    "tags": []
   },
   "outputs": [
    {
     "name": "stderr",
     "output_type": "stream",
     "text": [
      "C:\\Users\\user\\AppData\\Local\\Temp\\ipykernel_2608\\2243390173.py:3: DataConversionWarning: A column-vector y was passed when a 1d array was expected. Please change the shape of y to (n_samples,), for example using ravel().\n",
      "  model_rf.fit(x_train, y_train)\n"
     ]
    }
   ],
   "source": [
    "# 아래에 필요한 코드를 작성하고 결과를 확인합니다.\n",
    "model_rf = RFR(random_state=1)\n",
    "model_rf.fit(x_train, y_train)\n",
    "y_pred_rf = model_rf.predict(x_test)"
   ]
  },
  {
   "cell_type": "code",
   "execution_count": 86,
   "id": "10b33a11",
   "metadata": {
    "tags": []
   },
   "outputs": [
    {
     "name": "stdout",
     "output_type": "stream",
     "text": [
      "43.15209356481481 0.9221730527478912\n"
     ]
    }
   ],
   "source": [
    "# Test 데이터로 성능을 평가해보세요.\n",
    "print(mse(y_test, y_pred_rf), r2_score(y_test, y_pred_rf))"
   ]
  },
  {
   "cell_type": "code",
   "execution_count": 9,
   "id": "41971ff8",
   "metadata": {},
   "outputs": [],
   "source": [
    "# 학습한 모델을 파일로 저장해보세요.\n",
    "\n"
   ]
  },
  {
   "cell_type": "code",
   "execution_count": 87,
   "id": "e19f84b0",
   "metadata": {
    "tags": []
   },
   "outputs": [
    {
     "data": {
      "text/plain": [
       "array([9.43929791e-01, 2.33846990e-02, 1.94256803e-03, 1.71223733e-03,\n",
       "       3.94841737e-03, 3.02180796e-03, 7.40263727e-04, 1.17806187e-03,\n",
       "       3.39527111e-03, 6.61430391e-03, 1.84545352e-03, 4.51036789e-03,\n",
       "       5.23874287e-04, 3.25288316e-03])"
      ]
     },
     "execution_count": 87,
     "metadata": {},
     "output_type": "execute_result"
    }
   ],
   "source": [
    "import seaborn as sns\n",
    "import matplotlib.pyplot as plt\n",
    "# (다음 진행은 선택입니다)\n",
    "# 렌덤포레스트로 학습한 모델의 feature_importances를 구해보세요.\n",
    "# 확인할 수 있는 내용으로 우리 모델에서의 인사이트를 정리해보세요.\n",
    "# Feature의 중요도 확인\n",
    "\n",
    "arr = model_rf.feature_importances_\n",
    "arr"
   ]
  },
  {
   "cell_type": "code",
   "execution_count": 95,
   "id": "75c9d8b0-3f9d-434e-b99a-1c5839748d2c",
   "metadata": {
    "tags": []
   },
   "outputs": [
    {
     "data": {
      "text/plain": [
       "<BarContainer object of 14 artists>"
      ]
     },
     "execution_count": 95,
     "metadata": {},
     "output_type": "execute_result"
    },
    {
     "data": {
      "image/png": "[encoded data removed]",
      "text/plain": [
       "<Figure size 640x480 with 1 Axes>"
      ]
     },
     "metadata": {},
     "output_type": "display_data"
    }
   ],
   "source": [
    "#-*- encoding: utf-8 -*-\n",
    "plt.barh(y = x_train.columns, width = model_rf.feature_importances_)"
   ]
  },
  {
   "cell_type": "code",
   "execution_count": 11,
   "id": "af7989f3",
   "metadata": {},
   "outputs": [],
   "source": [
    "# (선택) 확인\n",
    "# 3."
   ]
  },
  {
   "cell_type": "markdown",
   "id": "95401368-9bff-4118-b07a-92b833e33f20",
   "metadata": {
    "tags": []
   },
   "source": [
    "#### **<span style=\"color:blue\">(선택 수행)[4-2] 모델링: GradientBoosting</span>**"
   ]
  },
  {
   "cell_type": "markdown",
   "id": "convinced-vocabulary",
   "metadata": {},
   "source": [
    "* GradientBoosting: 앞선 모델의 에러를 다음 모델의 예측 값으로 활용하면서 가중치 업데이트 하는데 경사하강법(Gradient Descent)를 활용해서 최적 모델을 만드는 기법\n",
    "* Train과 Test로 나눈 데이터를 기준으로 그라디언트부스팅으로 모델을 학습을 진행하고 평가를 해주세요.\n",
    "* 그리고 모델 파일을 pkl로 저장해주세요.\n",
    "* 성능지표 : RMSE, R-squared Score(소수점 5째자리까지)"
   ]
  },
  {
   "cell_type": "code",
   "execution_count": 96,
   "id": "continent-olympus",
   "metadata": {
    "tags": []
   },
   "outputs": [
    {
     "name": "stderr",
     "output_type": "stream",
     "text": [
      "C:\\Users\\user\\anaconda3\\Lib\\site-packages\\sklearn\\ensemble\\_gb.py:437: DataConversionWarning: A column-vector y was passed when a 1d array was expected. Please change the shape of y to (n_samples, ), for example using ravel().\n",
      "  y = column_or_1d(y, warn=True)\n"
     ]
    }
   ],
   "source": [
    "# 아래에 필요한 코드를 작성하고 결과를 확인합니다.\n",
    "\n",
    "model = GBR(random_state=1)\n",
    "model.fit(x_train, y_train)\n",
    "y_pred = model.predict(x_test)"
   ]
  },
  {
   "cell_type": "code",
   "execution_count": 97,
   "id": "241dbcdc",
   "metadata": {
    "tags": []
   },
   "outputs": [
    {
     "name": "stdout",
     "output_type": "stream",
     "text": [
      "6.147498668263723 0.93184\n"
     ]
    }
   ],
   "source": [
    "# Test 데이터로 성능을 평가해보세요.\n",
    "\n",
    "print(mse(y_test, y_pred)**(1/2), round(r2_score(y_test, y_pred),5))"
   ]
  },
  {
   "cell_type": "code",
   "execution_count": 14,
   "id": "9bdccb80",
   "metadata": {},
   "outputs": [],
   "source": [
    "# 학습한 모델을 파일로 저장해보세요.\n",
    "\n",
    "\n"
   ]
  },
  {
   "cell_type": "code",
   "execution_count": 98,
   "id": "8deba58d",
   "metadata": {
    "tags": []
   },
   "outputs": [
    {
     "name": "stderr",
     "output_type": "stream",
     "text": [
      "C:\\Users\\user\\anaconda3\\Lib\\site-packages\\IPython\\core\\pylabtools.py:152: UserWarning: Glyph 44592 (\\N{HANGUL SYLLABLE GI}) missing from current font.\n",
      "  fig.canvas.print_figure(bytes_io, **kw)\n",
      "C:\\Users\\user\\anaconda3\\Lib\\site-packages\\IPython\\core\\pylabtools.py:152: UserWarning: Glyph 50728 (\\N{HANGUL SYLLABLE ON}) missing from current font.\n",
      "  fig.canvas.print_figure(bytes_io, **kw)\n",
      "C:\\Users\\user\\anaconda3\\Lib\\site-packages\\IPython\\core\\pylabtools.py:152: UserWarning: Glyph 54413 (\\N{HANGUL SYLLABLE PUNG}) missing from current font.\n",
      "  fig.canvas.print_figure(bytes_io, **kw)\n",
      "C:\\Users\\user\\anaconda3\\Lib\\site-packages\\IPython\\core\\pylabtools.py:152: UserWarning: Glyph 54693 (\\N{HANGUL SYLLABLE HYANG}) missing from current font.\n",
      "  fig.canvas.print_figure(bytes_io, **kw)\n",
      "C:\\Users\\user\\anaconda3\\Lib\\site-packages\\IPython\\core\\pylabtools.py:152: UserWarning: Glyph 48169 (\\N{HANGUL SYLLABLE BANG}) missing from current font.\n",
      "  fig.canvas.print_figure(bytes_io, **kw)\n",
      "C:\\Users\\user\\anaconda3\\Lib\\site-packages\\IPython\\core\\pylabtools.py:152: UserWarning: Glyph 50948 (\\N{HANGUL SYLLABLE WI}) missing from current font.\n",
      "  fig.canvas.print_figure(bytes_io, **kw)\n",
      "C:\\Users\\user\\anaconda3\\Lib\\site-packages\\IPython\\core\\pylabtools.py:152: UserWarning: Glyph 49845 (\\N{HANGUL SYLLABLE SEUB}) missing from current font.\n",
      "  fig.canvas.print_figure(bytes_io, **kw)\n",
      "C:\\Users\\user\\anaconda3\\Lib\\site-packages\\IPython\\core\\pylabtools.py:152: UserWarning: Glyph 46020 (\\N{HANGUL SYLLABLE DO}) missing from current font.\n",
      "  fig.canvas.print_figure(bytes_io, **kw)\n",
      "C:\\Users\\user\\anaconda3\\Lib\\site-packages\\IPython\\core\\pylabtools.py:152: UserWarning: Glyph 51613 (\\N{HANGUL SYLLABLE JEUNG}) missing from current font.\n",
      "  fig.canvas.print_figure(bytes_io, **kw)\n",
      "C:\\Users\\user\\anaconda3\\Lib\\site-packages\\IPython\\core\\pylabtools.py:152: UserWarning: Glyph 50517 (\\N{HANGUL SYLLABLE AB}) missing from current font.\n",
      "  fig.canvas.print_figure(bytes_io, **kw)\n",
      "C:\\Users\\user\\anaconda3\\Lib\\site-packages\\IPython\\core\\pylabtools.py:152: UserWarning: Glyph 51068 (\\N{HANGUL SYLLABLE IL}) missing from current font.\n",
      "  fig.canvas.print_figure(bytes_io, **kw)\n",
      "C:\\Users\\user\\anaconda3\\Lib\\site-packages\\IPython\\core\\pylabtools.py:152: UserWarning: Glyph 51312 (\\N{HANGUL SYLLABLE JO}) missing from current font.\n",
      "  fig.canvas.print_figure(bytes_io, **kw)\n",
      "C:\\Users\\user\\anaconda3\\Lib\\site-packages\\IPython\\core\\pylabtools.py:152: UserWarning: Glyph 51204 (\\N{HANGUL SYLLABLE JEON}) missing from current font.\n",
      "  fig.canvas.print_figure(bytes_io, **kw)\n",
      "C:\\Users\\user\\anaconda3\\Lib\\site-packages\\IPython\\core\\pylabtools.py:152: UserWarning: Glyph 50868 (\\N{HANGUL SYLLABLE UN}) missing from current font.\n",
      "  fig.canvas.print_figure(bytes_io, **kw)\n",
      "C:\\Users\\user\\anaconda3\\Lib\\site-packages\\IPython\\core\\pylabtools.py:152: UserWarning: Glyph 47049 (\\N{HANGUL SYLLABLE RYANG}) missing from current font.\n",
      "  fig.canvas.print_figure(bytes_io, **kw)\n",
      "C:\\Users\\user\\anaconda3\\Lib\\site-packages\\IPython\\core\\pylabtools.py:152: UserWarning: Glyph 48516 (\\N{HANGUL SYLLABLE BUN}) missing from current font.\n",
      "  fig.canvas.print_figure(bytes_io, **kw)\n",
      "C:\\Users\\user\\anaconda3\\Lib\\site-packages\\IPython\\core\\pylabtools.py:152: UserWarning: Glyph 51473 (\\N{HANGUL SYLLABLE JUNG}) missing from current font.\n",
      "  fig.canvas.print_figure(bytes_io, **kw)\n",
      "C:\\Users\\user\\anaconda3\\Lib\\site-packages\\IPython\\core\\pylabtools.py:152: UserWarning: Glyph 54616 (\\N{HANGUL SYLLABLE HA}) missing from current font.\n",
      "  fig.canvas.print_figure(bytes_io, **kw)\n",
      "C:\\Users\\user\\anaconda3\\Lib\\site-packages\\IPython\\core\\pylabtools.py:152: UserWarning: Glyph 52789 (\\N{HANGUL SYLLABLE CEUNG}) missing from current font.\n",
      "  fig.canvas.print_figure(bytes_io, **kw)\n",
      "C:\\Users\\user\\anaconda3\\Lib\\site-packages\\IPython\\core\\pylabtools.py:152: UserWarning: Glyph 49884 (\\N{HANGUL SYLLABLE SI}) missing from current font.\n",
      "  fig.canvas.print_figure(bytes_io, **kw)\n",
      "C:\\Users\\user\\anaconda3\\Lib\\site-packages\\IPython\\core\\pylabtools.py:152: UserWarning: Glyph 51221 (\\N{HANGUL SYLLABLE JEONG}) missing from current font.\n",
      "  fig.canvas.print_figure(bytes_io, **kw)\n",
      "C:\\Users\\user\\anaconda3\\Lib\\site-packages\\IPython\\core\\pylabtools.py:152: UserWarning: Glyph 51648 (\\N{HANGUL SYLLABLE JI}) missing from current font.\n",
      "  fig.canvas.print_figure(bytes_io, **kw)\n",
      "C:\\Users\\user\\anaconda3\\Lib\\site-packages\\IPython\\core\\pylabtools.py:152: UserWarning: Glyph 47732 (\\N{HANGUL SYLLABLE MYEON}) missing from current font.\n",
      "  fig.canvas.print_figure(bytes_io, **kw)\n"
     ]
    },
    {
     "data": {
      "image/png": "[encoded data removed]",
      "text/plain": [
       "<Figure size 640x480 with 1 Axes>"
      ]
     },
     "metadata": {},
     "output_type": "display_data"
    }
   ],
   "source": [
    "# (다음 진행은 선택입니다)\n",
    "# 그라디언트부스팅으로 학습한 모델의 feature_importances를 구해보세요.\n",
    "# 확인할 수 있는 내용으로 우리 모델에서의 인사이트를 정리해보세요.\n",
    "# Feature의 중요도 확인\n",
    "\n",
    "plt.barh(y=list(x_train), width=model.feature_importances_)\n",
    "plt.show()"
   ]
  },
  {
   "cell_type": "code",
   "execution_count": 16,
   "id": "9d1bfe7d",
   "metadata": {
    "tags": []
   },
   "outputs": [],
   "source": [
    "# 확인할 수 있는 인사이트\n",
    "# 1.\n",
    "# 2.\n",
    "# 3."
   ]
  },
  {
   "cell_type": "markdown",
   "id": "eb89852b-b155-4f0a-aaef-2a035caccda7",
   "metadata": {
    "tags": []
   },
   "source": [
    "#### **<span style=\"color:blue\">(선택 수행)[4-3] 모델링: Self Choice Model</span>**"
   ]
  },
  {
   "cell_type": "markdown",
   "id": "305bbd5b",
   "metadata": {},
   "source": [
    "* Self Choice Model: 앞선 교육과정에서 배운 머신러닝 모델 중 어떤 것이든 좋습니다. 원하는 모델을 선택해서 학습을 시켜보세요.\n",
    "* Train과 Test로 나눈 데이터를 기준으로 Self Choice Model로 모델을 학습을 진행하고 평가를 해주세요.\n",
    "* 그리고 모델 파일을 pkl로 저장해주세요.\n",
    "* 성능지표 : RMSE, R-squared Score(소수점 5째자리까지)"
   ]
  },
  {
   "cell_type": "code",
   "execution_count": 99,
   "id": "4dd44f36-3c66-48f4-9fbb-0622af24f6f3",
   "metadata": {
    "tags": []
   },
   "outputs": [],
   "source": [
    "import warnings\n",
    "from lightgbm import LGBMRegressor\n",
    "\n",
    "warnings.filterwarnings(action='ignore')\n",
    "%config InlineBackend.figure_format = 'retina'"
   ]
  },
  {
   "cell_type": "code",
   "execution_count": 120,
   "id": "da5fee98-8528-47be-9fdb-48b37f19018a",
   "metadata": {
    "tags": []
   },
   "outputs": [],
   "source": [
    "x_train.drop('month', axis=1, inplace=True)\n",
    "x_test.drop('month', axis=1, inplace=True)"
   ]
  },
  {
   "cell_type": "code",
   "execution_count": 121,
   "id": "2187b189-2be3-42b3-a9f6-28560400bedb",
   "metadata": {
    "id": "cRFfRPkXo-BZ",
    "tags": []
   },
   "outputs": [],
   "source": [
    "# 선언하기\n",
    "model = LGBMRegressor(random_state=1, verbose=0)"
   ]
  },
  {
   "cell_type": "code",
   "execution_count": 122,
   "id": "923e31b2-fde7-4bab-ada1-4e1cf9ae9b04",
   "metadata": {
    "id": "PmdkjWYao-BZ",
    "tags": []
   },
   "outputs": [
    {
     "name": "stdout",
     "output_type": "stream",
     "text": [
      "[LightGBM] [Warning] Found whitespace in feature_names, replace with underlines\n",
      "[LightGBM] [Warning] Auto-choosing col-wise multi-threading, the overhead of testing was 0.000601 seconds.\n",
      "You can set `force_col_wise=true` to remove the overhead.\n"
     ]
    },
    {
     "data": {
      "text/html": [
       "<style>#sk-container-id-9 {color: black;background-color: white;}#sk-container-id-9 pre{padding: 0;}#sk-container-id-9 div.sk-toggleable {background-color: white;}#sk-container-id-9 label.sk-toggleable__label {cursor: pointer;display: block;width: 100%;margin-bottom: 0;padding: 0.3em;box-sizing: border-box;text-align: center;}#sk-container-id-9 label.sk-toggleable__label-arrow:before {content: \"▸\";float: left;margin-right: 0.25em;color: #696969;}#sk-container-id-9 label.sk-toggleable__label-arrow:hover:before {color: black;}#sk-container-id-9 div.sk-estimator:hover label.sk-toggleable__label-arrow:before {color: black;}#sk-container-id-9 div.sk-toggleable__content {max-height: 0;max-width: 0;overflow: hidden;text-align: left;background-color: #f0f8ff;}#sk-container-id-9 div.sk-toggleable__content pre {margin: 0.2em;color: black;border-radius: 0.25em;background-color: #f0f8ff;}#sk-container-id-9 input.sk-toggleable__control:checked~div.sk-toggleable__content {max-height: 200px;max-width: 100%;overflow: auto;}#sk-container-id-9 input.sk-toggleable__control:checked~label.sk-toggleable__label-arrow:before {content: \"▾\";}#sk-container-id-9 div.sk-estimator input.sk-toggleable__control:checked~label.sk-toggleable__label {background-color: #d4ebff;}#sk-container-id-9 div.sk-label input.sk-toggleable__control:checked~label.sk-toggleable__label {background-color: #d4ebff;}#sk-container-id-9 input.sk-hidden--visually {border: 0;clip: rect(1px 1px 1px 1px);clip: rect(1px, 1px, 1px, 1px);height: 1px;margin: -1px;overflow: hidden;padding: 0;position: absolute;width: 1px;}#sk-container-id-9 div.sk-estimator {font-family: monospace;background-color: #f0f8ff;border: 1px dotted black;border-radius: 0.25em;box-sizing: border-box;margin-bottom: 0.5em;}#sk-container-id-9 div.sk-estimator:hover {background-color: #d4ebff;}#sk-container-id-9 div.sk-parallel-item::after {content: \"\";width: 100%;border-bottom: 1px solid gray;flex-grow: 1;}#sk-container-id-9 div.sk-label:hover label.sk-toggleable__label {background-color: #d4ebff;}#sk-container-id-9 div.sk-serial::before {content: \"\";position: absolute;border-left: 1px solid gray;box-sizing: border-box;top: 0;bottom: 0;left: 50%;z-index: 0;}#sk-container-id-9 div.sk-serial {display: flex;flex-direction: column;align-items: center;background-color: white;padding-right: 0.2em;padding-left: 0.2em;position: relative;}#sk-container-id-9 div.sk-item {position: relative;z-index: 1;}#sk-container-id-9 div.sk-parallel {display: flex;align-items: stretch;justify-content: center;background-color: white;position: relative;}#sk-container-id-9 div.sk-item::before, #sk-container-id-9 div.sk-parallel-item::before {content: \"\";position: absolute;border-left: 1px solid gray;box-sizing: border-box;top: 0;bottom: 0;left: 50%;z-index: -1;}#sk-container-id-9 div.sk-parallel-item {display: flex;flex-direction: column;z-index: 1;position: relative;background-color: white;}#sk-container-id-9 div.sk-parallel-item:first-child::after {align-self: flex-end;width: 50%;}#sk-container-id-9 div.sk-parallel-item:last-child::after {align-self: flex-start;width: 50%;}#sk-container-id-9 div.sk-parallel-item:only-child::after {width: 0;}#sk-container-id-9 div.sk-dashed-wrapped {border: 1px dashed gray;margin: 0 0.4em 0.5em 0.4em;box-sizing: border-box;padding-bottom: 0.4em;background-color: white;}#sk-container-id-9 div.sk-label label {font-family: monospace;font-weight: bold;display: inline-block;line-height: 1.2em;}#sk-container-id-9 div.sk-label-container {text-align: center;}#sk-container-id-9 div.sk-container {/* jupyter's `normalize.less` sets `[hidden] { display: none; }` but bootstrap.min.css set `[hidden] { display: none !important; }` so we also need the `!important` here to be able to override the default hidden behavior on the sphinx rendered scikit-learn.org. See: https://github.com/scikit-learn/scikit-learn/issues/21755 */display: inline-block !important;position: relative;}#sk-container-id-9 div.sk-text-repr-fallback {display: none;}</style><div id=\"sk-container-id-9\" class=\"sk-top-container\"><div class=\"sk-text-repr-fallback\"><pre>LGBMRegressor(random_state=1, verbose=0)</pre><b>In a Jupyter environment, please rerun this cell to show the HTML representation or trust the notebook. <br />On GitHub, the HTML representation is unable to render, please try loading this page with nbviewer.org.</b></div><div class=\"sk-container\" hidden><div class=\"sk-item\"><div class=\"sk-estimator sk-toggleable\"><input class=\"sk-toggleable__control sk-hidden--visually\" id=\"sk-estimator-id-9\" type=\"checkbox\" checked><label for=\"sk-estimator-id-9\" class=\"sk-toggleable__label sk-toggleable__label-arrow\">LGBMRegressor</label><div class=\"sk-toggleable__content\"><pre>LGBMRegressor(random_state=1, verbose=0)</pre></div></div></div></div></div>"
      ],
      "text/plain": [
       "LGBMRegressor(random_state=1, verbose=0)"
      ]
     },
     "execution_count": 122,
     "metadata": {},
     "output_type": "execute_result"
    }
   ],
   "source": [
    "# 성능예측\n",
    "model.fit(x_train, y_train)"
   ]
  },
  {
   "cell_type": "code",
   "execution_count": 123,
   "id": "e69d0d7c",
   "metadata": {
    "tags": []
   },
   "outputs": [
    {
     "name": "stdout",
     "output_type": "stream",
     "text": [
      "0.9294424591829075\n",
      "39.12148311791737\n"
     ]
    }
   ],
   "source": [
    "# 학습한 모델을 파일로 저장해보세요.\n",
    "y_pred = model.predict(x_test)\n",
    "print(r2_score(y_test, y_pred))\n",
    "print(mse(y_test, y_pred))"
   ]
  },
  {
   "cell_type": "code",
   "execution_count": 124,
   "id": "f83b16b7",
   "metadata": {
    "tags": []
   },
   "outputs": [
    {
     "data": {
      "text/plain": [
       "array([873, 301, 155, 122, 241, 171,  71,  74,  65, 332, 154, 204, 237])"
      ]
     },
     "execution_count": 124,
     "metadata": {},
     "output_type": "execute_result"
    }
   ],
   "source": [
    "# (다음 진행은 선택입니다)\n",
    "# 그라디언트부스팅으로 학습한 모델의 feature_importances를 구해보세요.\n",
    "# 확인할 수 있는 내용으로 우리 모델에서의 인사이트를 정리해보세요.\n",
    "# Feature의 중요도 확인\n",
    "\n",
    "model.feature_importances_"
   ]
  },
  {
   "cell_type": "code",
   "execution_count": 126,
   "id": "c49b2893-7805-4d86-a4cc-01a9de97368a",
   "metadata": {
    "tags": []
   },
   "outputs": [
    {
     "data": {
      "text/html": [
       "<div>\n",
       "<style scoped>\n",
       "    .dataframe tbody tr th:only-of-type {\n",
       "        vertical-align: middle;\n",
       "    }\n",
       "\n",
       "    .dataframe tbody tr th {\n",
       "        vertical-align: top;\n",
       "    }\n",
       "\n",
       "    .dataframe thead th {\n",
       "        text-align: right;\n",
       "    }\n",
       "</style>\n",
       "<table border=\"1\" class=\"dataframe\">\n",
       "  <thead>\n",
       "    <tr style=\"text-align: right;\">\n",
       "      <th></th>\n",
       "      <th>PM10</th>\n",
       "      <th>PM25</th>\n",
       "      <th>기온(°C)</th>\n",
       "      <th>풍향(16방위)</th>\n",
       "      <th>습도(%)</th>\n",
       "      <th>증기압(hPa)</th>\n",
       "      <th>일조(hr)</th>\n",
       "      <th>전운량(10분위)</th>\n",
       "      <th>중하층운량(10분위)</th>\n",
       "      <th>시정(10m)</th>\n",
       "      <th>지면온도(°C)</th>\n",
       "      <th>10cm 지중온도(°C)</th>\n",
       "      <th>PM10_lag1</th>\n",
       "    </tr>\n",
       "  </thead>\n",
       "  <tbody>\n",
       "    <tr>\n",
       "      <th>PM10</th>\n",
       "      <td>1.000000</td>\n",
       "      <td>0.675537</td>\n",
       "      <td>-0.125976</td>\n",
       "      <td>0.100598</td>\n",
       "      <td>-0.062728</td>\n",
       "      <td>-0.203516</td>\n",
       "      <td>0.031409</td>\n",
       "      <td>-0.099248</td>\n",
       "      <td>-0.086809</td>\n",
       "      <td>-0.354747</td>\n",
       "      <td>-0.138677</td>\n",
       "      <td>-0.184603</td>\n",
       "      <td>0.311748</td>\n",
       "    </tr>\n",
       "    <tr>\n",
       "      <th>PM25</th>\n",
       "      <td>0.675537</td>\n",
       "      <td>1.000000</td>\n",
       "      <td>-0.175209</td>\n",
       "      <td>0.088466</td>\n",
       "      <td>0.000087</td>\n",
       "      <td>-0.226776</td>\n",
       "      <td>-0.025579</td>\n",
       "      <td>-0.046220</td>\n",
       "      <td>-0.076331</td>\n",
       "      <td>-0.515618</td>\n",
       "      <td>-0.223101</td>\n",
       "      <td>-0.285055</td>\n",
       "      <td>0.255371</td>\n",
       "    </tr>\n",
       "    <tr>\n",
       "      <th>기온(°C)</th>\n",
       "      <td>-0.125976</td>\n",
       "      <td>-0.175209</td>\n",
       "      <td>1.000000</td>\n",
       "      <td>-0.181722</td>\n",
       "      <td>0.145338</td>\n",
       "      <td>0.881618</td>\n",
       "      <td>0.093765</td>\n",
       "      <td>0.307818</td>\n",
       "      <td>0.153545</td>\n",
       "      <td>0.068274</td>\n",
       "      <td>0.946661</td>\n",
       "      <td>0.938482</td>\n",
       "      <td>-0.144524</td>\n",
       "    </tr>\n",
       "    <tr>\n",
       "      <th>풍향(16방위)</th>\n",
       "      <td>0.100598</td>\n",
       "      <td>0.088466</td>\n",
       "      <td>-0.181722</td>\n",
       "      <td>1.000000</td>\n",
       "      <td>-0.200931</td>\n",
       "      <td>-0.189205</td>\n",
       "      <td>0.079040</td>\n",
       "      <td>-0.177082</td>\n",
       "      <td>-0.095189</td>\n",
       "      <td>0.025609</td>\n",
       "      <td>-0.138436</td>\n",
       "      <td>-0.153320</td>\n",
       "      <td>0.099027</td>\n",
       "    </tr>\n",
       "    <tr>\n",
       "      <th>습도(%)</th>\n",
       "      <td>-0.062728</td>\n",
       "      <td>0.000087</td>\n",
       "      <td>0.145338</td>\n",
       "      <td>-0.200931</td>\n",
       "      <td>1.000000</td>\n",
       "      <td>0.450806</td>\n",
       "      <td>-0.513351</td>\n",
       "      <td>0.362110</td>\n",
       "      <td>0.379947</td>\n",
       "      <td>-0.501741</td>\n",
       "      <td>0.055299</td>\n",
       "      <td>0.248468</td>\n",
       "      <td>-0.135636</td>\n",
       "    </tr>\n",
       "    <tr>\n",
       "      <th>증기압(hPa)</th>\n",
       "      <td>-0.203516</td>\n",
       "      <td>-0.226776</td>\n",
       "      <td>0.881618</td>\n",
       "      <td>-0.189205</td>\n",
       "      <td>0.450806</td>\n",
       "      <td>1.000000</td>\n",
       "      <td>-0.107032</td>\n",
       "      <td>0.357037</td>\n",
       "      <td>0.239898</td>\n",
       "      <td>-0.038121</td>\n",
       "      <td>0.830627</td>\n",
       "      <td>0.915059</td>\n",
       "      <td>-0.225251</td>\n",
       "    </tr>\n",
       "    <tr>\n",
       "      <th>일조(hr)</th>\n",
       "      <td>0.031409</td>\n",
       "      <td>-0.025579</td>\n",
       "      <td>0.093765</td>\n",
       "      <td>0.079040</td>\n",
       "      <td>-0.513351</td>\n",
       "      <td>-0.107032</td>\n",
       "      <td>1.000000</td>\n",
       "      <td>-0.400436</td>\n",
       "      <td>-0.367237</td>\n",
       "      <td>0.222798</td>\n",
       "      <td>0.262351</td>\n",
       "      <td>-0.029603</td>\n",
       "      <td>0.044928</td>\n",
       "    </tr>\n",
       "    <tr>\n",
       "      <th>전운량(10분위)</th>\n",
       "      <td>-0.099248</td>\n",
       "      <td>-0.046220</td>\n",
       "      <td>0.307818</td>\n",
       "      <td>-0.177082</td>\n",
       "      <td>0.362110</td>\n",
       "      <td>0.357037</td>\n",
       "      <td>-0.400436</td>\n",
       "      <td>1.000000</td>\n",
       "      <td>0.748671</td>\n",
       "      <td>-0.240803</td>\n",
       "      <td>0.248438</td>\n",
       "      <td>0.265382</td>\n",
       "      <td>-0.095953</td>\n",
       "    </tr>\n",
       "    <tr>\n",
       "      <th>중하층운량(10분위)</th>\n",
       "      <td>-0.086809</td>\n",
       "      <td>-0.076331</td>\n",
       "      <td>0.153545</td>\n",
       "      <td>-0.095189</td>\n",
       "      <td>0.379947</td>\n",
       "      <td>0.239898</td>\n",
       "      <td>-0.367237</td>\n",
       "      <td>0.748671</td>\n",
       "      <td>1.000000</td>\n",
       "      <td>-0.271169</td>\n",
       "      <td>0.115374</td>\n",
       "      <td>0.133205</td>\n",
       "      <td>-0.078384</td>\n",
       "    </tr>\n",
       "    <tr>\n",
       "      <th>시정(10m)</th>\n",
       "      <td>-0.354747</td>\n",
       "      <td>-0.515618</td>\n",
       "      <td>0.068274</td>\n",
       "      <td>0.025609</td>\n",
       "      <td>-0.501741</td>\n",
       "      <td>-0.038121</td>\n",
       "      <td>0.222798</td>\n",
       "      <td>-0.240803</td>\n",
       "      <td>-0.271169</td>\n",
       "      <td>1.000000</td>\n",
       "      <td>0.110660</td>\n",
       "      <td>0.092940</td>\n",
       "      <td>-0.120017</td>\n",
       "    </tr>\n",
       "    <tr>\n",
       "      <th>지면온도(°C)</th>\n",
       "      <td>-0.138677</td>\n",
       "      <td>-0.223101</td>\n",
       "      <td>0.946661</td>\n",
       "      <td>-0.138436</td>\n",
       "      <td>0.055299</td>\n",
       "      <td>0.830627</td>\n",
       "      <td>0.262351</td>\n",
       "      <td>0.248438</td>\n",
       "      <td>0.115374</td>\n",
       "      <td>0.110660</td>\n",
       "      <td>1.000000</td>\n",
       "      <td>0.898366</td>\n",
       "      <td>-0.148156</td>\n",
       "    </tr>\n",
       "    <tr>\n",
       "      <th>10cm 지중온도(°C)</th>\n",
       "      <td>-0.184603</td>\n",
       "      <td>-0.285055</td>\n",
       "      <td>0.938482</td>\n",
       "      <td>-0.153320</td>\n",
       "      <td>0.248468</td>\n",
       "      <td>0.915059</td>\n",
       "      <td>-0.029603</td>\n",
       "      <td>0.265382</td>\n",
       "      <td>0.133205</td>\n",
       "      <td>0.092940</td>\n",
       "      <td>0.898366</td>\n",
       "      <td>1.000000</td>\n",
       "      <td>-0.182159</td>\n",
       "    </tr>\n",
       "    <tr>\n",
       "      <th>PM10_lag1</th>\n",
       "      <td>0.311748</td>\n",
       "      <td>0.255371</td>\n",
       "      <td>-0.144524</td>\n",
       "      <td>0.099027</td>\n",
       "      <td>-0.135636</td>\n",
       "      <td>-0.225251</td>\n",
       "      <td>0.044928</td>\n",
       "      <td>-0.095953</td>\n",
       "      <td>-0.078384</td>\n",
       "      <td>-0.120017</td>\n",
       "      <td>-0.148156</td>\n",
       "      <td>-0.182159</td>\n",
       "      <td>1.000000</td>\n",
       "    </tr>\n",
       "  </tbody>\n",
       "</table>\n",
       "</div>"
      ],
      "text/plain": [
       "                   PM10      PM25    기온(°C)  풍향(16방위)     습도(%)  증기압(hPa)  \\\n",
       "PM10           1.000000  0.675537 -0.125976  0.100598 -0.062728 -0.203516   \n",
       "PM25           0.675537  1.000000 -0.175209  0.088466  0.000087 -0.226776   \n",
       "기온(°C)        -0.125976 -0.175209  1.000000 -0.181722  0.145338  0.881618   \n",
       "풍향(16방위)       0.100598  0.088466 -0.181722  1.000000 -0.200931 -0.189205   \n",
       "습도(%)         -0.062728  0.000087  0.145338 -0.200931  1.000000  0.450806   \n",
       "증기압(hPa)      -0.203516 -0.226776  0.881618 -0.189205  0.450806  1.000000   \n",
       "일조(hr)         0.031409 -0.025579  0.093765  0.079040 -0.513351 -0.107032   \n",
       "전운량(10분위)     -0.099248 -0.046220  0.307818 -0.177082  0.362110  0.357037   \n",
       "중하층운량(10분위)   -0.086809 -0.076331  0.153545 -0.095189  0.379947  0.239898   \n",
       "시정(10m)       -0.354747 -0.515618  0.068274  0.025609 -0.501741 -0.038121   \n",
       "지면온도(°C)      -0.138677 -0.223101  0.946661 -0.138436  0.055299  0.830627   \n",
       "10cm 지중온도(°C) -0.184603 -0.285055  0.938482 -0.153320  0.248468  0.915059   \n",
       "PM10_lag1      0.311748  0.255371 -0.144524  0.099027 -0.135636 -0.225251   \n",
       "\n",
       "                 일조(hr)  전운량(10분위)  중하층운량(10분위)   시정(10m)  지면온도(°C)  \\\n",
       "PM10           0.031409  -0.099248    -0.086809 -0.354747 -0.138677   \n",
       "PM25          -0.025579  -0.046220    -0.076331 -0.515618 -0.223101   \n",
       "기온(°C)         0.093765   0.307818     0.153545  0.068274  0.946661   \n",
       "풍향(16방위)       0.079040  -0.177082    -0.095189  0.025609 -0.138436   \n",
       "습도(%)         -0.513351   0.362110     0.379947 -0.501741  0.055299   \n",
       "증기압(hPa)      -0.107032   0.357037     0.239898 -0.038121  0.830627   \n",
       "일조(hr)         1.000000  -0.400436    -0.367237  0.222798  0.262351   \n",
       "전운량(10분위)     -0.400436   1.000000     0.748671 -0.240803  0.248438   \n",
       "중하층운량(10분위)   -0.367237   0.748671     1.000000 -0.271169  0.115374   \n",
       "시정(10m)        0.222798  -0.240803    -0.271169  1.000000  0.110660   \n",
       "지면온도(°C)       0.262351   0.248438     0.115374  0.110660  1.000000   \n",
       "10cm 지중온도(°C) -0.029603   0.265382     0.133205  0.092940  0.898366   \n",
       "PM10_lag1      0.044928  -0.095953    -0.078384 -0.120017 -0.148156   \n",
       "\n",
       "               10cm 지중온도(°C)  PM10_lag1  \n",
       "PM10               -0.184603   0.311748  \n",
       "PM25               -0.285055   0.255371  \n",
       "기온(°C)              0.938482  -0.144524  \n",
       "풍향(16방위)           -0.153320   0.099027  \n",
       "습도(%)               0.248468  -0.135636  \n",
       "증기압(hPa)            0.915059  -0.225251  \n",
       "일조(hr)             -0.029603   0.044928  \n",
       "전운량(10분위)           0.265382  -0.095953  \n",
       "중하층운량(10분위)         0.133205  -0.078384  \n",
       "시정(10m)             0.092940  -0.120017  \n",
       "지면온도(°C)            0.898366  -0.148156  \n",
       "10cm 지중온도(°C)       1.000000  -0.182159  \n",
       "PM10_lag1          -0.182159   1.000000  "
      ]
     },
     "execution_count": 126,
     "metadata": {},
     "output_type": "execute_result"
    }
   ],
   "source": [
    "x_train.corr()"
   ]
  },
  {
   "cell_type": "code",
   "execution_count": 125,
   "id": "36711e44-1a9e-4d2c-bff2-3ed2ee60de6d",
   "metadata": {
    "tags": []
   },
   "outputs": [
    {
     "data": {
      "text/plain": [
       "['PM10',\n",
       " 'PM25',\n",
       " '기온(°C)',\n",
       " '풍향(16방위)',\n",
       " '습도(%)',\n",
       " '증기압(hPa)',\n",
       " '일조(hr)',\n",
       " '전운량(10분위)',\n",
       " '중하층운량(10분위)',\n",
       " '시정(10m)',\n",
       " '지면온도(°C)',\n",
       " '10cm 지중온도(°C)',\n",
       " 'PM10_lag1']"
      ]
     },
     "execution_count": 125,
     "metadata": {},
     "output_type": "execute_result"
    }
   ],
   "source": [
    "list(x_train)"
   ]
  },
  {
   "cell_type": "code",
   "execution_count": 21,
   "id": "67e6d924",
   "metadata": {},
   "outputs": [],
   "source": [
    "# Feature의 중요도 확인\n",
    "\n",
    "\n",
    "\n"
   ]
  },
  {
   "cell_type": "code",
   "execution_count": 22,
   "id": "a8ac782c",
   "metadata": {},
   "outputs": [],
   "source": [
    "# 확인할 수 있는 인사이트\n",
    "# 1.\n",
    "# 2.\n",
    "# 3."
   ]
  },
  {
   "cell_type": "markdown",
   "id": "c07895fa-d831-4d9c-9bcf-9ec2d7eda2ec",
   "metadata": {
    "tags": []
   },
   "source": [
    "#### **<span style=\"color:blue\">(선택 수행)[4-4] 머신러닝 모델에 대해 성능 최적화 진행</span>**"
   ]
  },
  {
   "cell_type": "markdown",
   "id": "aacb4f2a-d979-4365-85e6-28d64953e741",
   "metadata": {},
   "source": [
    "* 위 머신러닝 모델들에 대해 성능 최적화를 진행해보세요."
   ]
  },
  {
   "cell_type": "code",
   "execution_count": 134,
   "id": "269c1378-b0c7-462c-a275-84f7c3d94ffb",
   "metadata": {
    "tags": []
   },
   "outputs": [
    {
     "data": {
      "text/plain": [
       "['accuracy',\n",
       " 'adjusted_mutual_info_score',\n",
       " 'adjusted_rand_score',\n",
       " 'average_precision',\n",
       " 'balanced_accuracy',\n",
       " 'completeness_score',\n",
       " 'explained_variance',\n",
       " 'f1',\n",
       " 'f1_macro',\n",
       " 'f1_micro',\n",
       " 'f1_samples',\n",
       " 'f1_weighted',\n",
       " 'fowlkes_mallows_score',\n",
       " 'homogeneity_score',\n",
       " 'jaccard',\n",
       " 'jaccard_macro',\n",
       " 'jaccard_micro',\n",
       " 'jaccard_samples',\n",
       " 'jaccard_weighted',\n",
       " 'matthews_corrcoef',\n",
       " 'max_error',\n",
       " 'mutual_info_score',\n",
       " 'neg_brier_score',\n",
       " 'neg_log_loss',\n",
       " 'neg_mean_absolute_error',\n",
       " 'neg_mean_absolute_percentage_error',\n",
       " 'neg_mean_gamma_deviance',\n",
       " 'neg_mean_poisson_deviance',\n",
       " 'neg_mean_squared_error',\n",
       " 'neg_mean_squared_log_error',\n",
       " 'neg_median_absolute_error',\n",
       " 'neg_negative_likelihood_ratio',\n",
       " 'neg_root_mean_squared_error',\n",
       " 'normalized_mutual_info_score',\n",
       " 'positive_likelihood_ratio',\n",
       " 'precision',\n",
       " 'precision_macro',\n",
       " 'precision_micro',\n",
       " 'precision_samples',\n",
       " 'precision_weighted',\n",
       " 'r2',\n",
       " 'rand_score',\n",
       " 'recall',\n",
       " 'recall_macro',\n",
       " 'recall_micro',\n",
       " 'recall_samples',\n",
       " 'recall_weighted',\n",
       " 'roc_auc',\n",
       " 'roc_auc_ovo',\n",
       " 'roc_auc_ovo_weighted',\n",
       " 'roc_auc_ovr',\n",
       " 'roc_auc_ovr_weighted',\n",
       " 'top_k_accuracy',\n",
       " 'v_measure_score']"
      ]
     },
     "execution_count": 134,
     "metadata": {},
     "output_type": "execute_result"
    }
   ],
   "source": [
    "from sklearn.metrics import get_scorer_names\n",
    "\n",
    "get_scorer_names()"
   ]
  },
  {
   "cell_type": "code",
   "execution_count": 139,
   "id": "50346246-e00c-44d3-be09-252981be1272",
   "metadata": {
    "tags": []
   },
   "outputs": [
    {
     "ename": "TypeError",
     "evalue": "Parameter grid for parameter 'random_state' needs to be a list or a numpy array, but got 1 (of type int) instead. Single values need to be wrapped in a list with one element.",
     "output_type": "error",
     "traceback": [
      "\u001b[1;31m---------------------------------------------------------------------------\u001b[0m",
      "\u001b[1;31mTypeError\u001b[0m                                 Traceback (most recent call last)",
      "Cell \u001b[1;32mIn[139], line 11\u001b[0m\n\u001b[0;32m      4\u001b[0m param_lgb \u001b[38;5;241m=\u001b[39m {\u001b[38;5;124m\"\u001b[39m\u001b[38;5;124mlearning_rate\u001b[39m\u001b[38;5;124m\"\u001b[39m : [\u001b[38;5;241m0.2\u001b[39m,\u001b[38;5;241m0.3\u001b[39m],\n\u001b[0;32m      5\u001b[0m              \u001b[38;5;124m\"\u001b[39m\u001b[38;5;124mmax_depth\u001b[39m\u001b[38;5;124m\"\u001b[39m : [\u001b[38;5;241m10\u001b[39m, \u001b[38;5;241m20\u001b[39m, \u001b[38;5;241m30\u001b[39m],\n\u001b[0;32m      6\u001b[0m              \u001b[38;5;124m\"\u001b[39m\u001b[38;5;124mnum_leaves\u001b[39m\u001b[38;5;124m\"\u001b[39m : [\u001b[38;5;241m100\u001b[39m,\u001b[38;5;241m300\u001b[39m],\n\u001b[0;32m      7\u001b[0m              \u001b[38;5;124m\"\u001b[39m\u001b[38;5;124mn_estimators\u001b[39m\u001b[38;5;124m\"\u001b[39m : [\u001b[38;5;241m100\u001b[39m, \u001b[38;5;241m200\u001b[39m, \u001b[38;5;241m300\u001b[39m],\n\u001b[0;32m      8\u001b[0m              \u001b[38;5;124m'\u001b[39m\u001b[38;5;124mrandom_state\u001b[39m\u001b[38;5;124m'\u001b[39m:\u001b[38;5;241m1\u001b[39m,\n\u001b[0;32m      9\u001b[0m             }\n\u001b[0;32m     10\u001b[0m gscv_lgb \u001b[38;5;241m=\u001b[39m GridSearchCV (estimator \u001b[38;5;241m=\u001b[39m LGBMRegressor(), param_grid \u001b[38;5;241m=\u001b[39m param_lgb, scoring \u001b[38;5;241m=\u001b[39m\u001b[38;5;124m'\u001b[39m\u001b[38;5;124mr2\u001b[39m\u001b[38;5;124m'\u001b[39m, cv \u001b[38;5;241m=\u001b[39m \u001b[38;5;241m3\u001b[39m, refit\u001b[38;5;241m=\u001b[39m\u001b[38;5;28;01mTrue\u001b[39;00m, n_jobs\u001b[38;5;241m=\u001b[39m\u001b[38;5;241m1\u001b[39m, verbose\u001b[38;5;241m=\u001b[39m\u001b[38;5;241m2\u001b[39m)\n\u001b[1;32m---> 11\u001b[0m gscv_lgb\u001b[38;5;241m.\u001b[39mfit(x_train, y_train)\n",
      "File \u001b[1;32m~\\anaconda3\\Lib\\site-packages\\sklearn\\model_selection\\_search.py:874\u001b[0m, in \u001b[0;36mBaseSearchCV.fit\u001b[1;34m(self, X, y, groups, **fit_params)\u001b[0m\n\u001b[0;32m    868\u001b[0m     results \u001b[38;5;241m=\u001b[39m \u001b[38;5;28mself\u001b[39m\u001b[38;5;241m.\u001b[39m_format_results(\n\u001b[0;32m    869\u001b[0m         all_candidate_params, n_splits, all_out, all_more_results\n\u001b[0;32m    870\u001b[0m     )\n\u001b[0;32m    872\u001b[0m     \u001b[38;5;28;01mreturn\u001b[39;00m results\n\u001b[1;32m--> 874\u001b[0m \u001b[38;5;28mself\u001b[39m\u001b[38;5;241m.\u001b[39m_run_search(evaluate_candidates)\n\u001b[0;32m    876\u001b[0m \u001b[38;5;66;03m# multimetric is determined here because in the case of a callable\u001b[39;00m\n\u001b[0;32m    877\u001b[0m \u001b[38;5;66;03m# self.scoring the return type is only known after calling\u001b[39;00m\n\u001b[0;32m    878\u001b[0m first_test_score \u001b[38;5;241m=\u001b[39m all_out[\u001b[38;5;241m0\u001b[39m][\u001b[38;5;124m\"\u001b[39m\u001b[38;5;124mtest_scores\u001b[39m\u001b[38;5;124m\"\u001b[39m]\n",
      "File \u001b[1;32m~\\anaconda3\\Lib\\site-packages\\sklearn\\model_selection\\_search.py:1388\u001b[0m, in \u001b[0;36mGridSearchCV._run_search\u001b[1;34m(self, evaluate_candidates)\u001b[0m\n\u001b[0;32m   1386\u001b[0m \u001b[38;5;28;01mdef\u001b[39;00m \u001b[38;5;21m_run_search\u001b[39m(\u001b[38;5;28mself\u001b[39m, evaluate_candidates):\n\u001b[0;32m   1387\u001b[0m \u001b[38;5;250m    \u001b[39m\u001b[38;5;124;03m\"\"\"Search all candidates in param_grid\"\"\"\u001b[39;00m\n\u001b[1;32m-> 1388\u001b[0m     evaluate_candidates(ParameterGrid(\u001b[38;5;28mself\u001b[39m\u001b[38;5;241m.\u001b[39mparam_grid))\n",
      "File \u001b[1;32m~\\anaconda3\\Lib\\site-packages\\sklearn\\model_selection\\_search.py:117\u001b[0m, in \u001b[0;36mParameterGrid.__init__\u001b[1;34m(self, param_grid)\u001b[0m\n\u001b[0;32m    110\u001b[0m     \u001b[38;5;28;01mraise\u001b[39;00m \u001b[38;5;167;01mValueError\u001b[39;00m(\n\u001b[0;32m    111\u001b[0m         \u001b[38;5;124mf\u001b[39m\u001b[38;5;124m\"\u001b[39m\u001b[38;5;124mParameter array for \u001b[39m\u001b[38;5;132;01m{\u001b[39;00mkey\u001b[38;5;132;01m!r}\u001b[39;00m\u001b[38;5;124m should be one-dimensional, got:\u001b[39m\u001b[38;5;124m\"\u001b[39m\n\u001b[0;32m    112\u001b[0m         \u001b[38;5;124mf\u001b[39m\u001b[38;5;124m\"\u001b[39m\u001b[38;5;124m \u001b[39m\u001b[38;5;132;01m{\u001b[39;00mvalue\u001b[38;5;132;01m!r}\u001b[39;00m\u001b[38;5;124m with shape \u001b[39m\u001b[38;5;132;01m{\u001b[39;00mvalue\u001b[38;5;241m.\u001b[39mshape\u001b[38;5;132;01m}\u001b[39;00m\u001b[38;5;124m\"\u001b[39m\n\u001b[0;32m    113\u001b[0m     )\n\u001b[0;32m    114\u001b[0m \u001b[38;5;28;01mif\u001b[39;00m \u001b[38;5;28misinstance\u001b[39m(value, \u001b[38;5;28mstr\u001b[39m) \u001b[38;5;129;01mor\u001b[39;00m \u001b[38;5;129;01mnot\u001b[39;00m \u001b[38;5;28misinstance\u001b[39m(\n\u001b[0;32m    115\u001b[0m     value, (np\u001b[38;5;241m.\u001b[39mndarray, Sequence)\n\u001b[0;32m    116\u001b[0m ):\n\u001b[1;32m--> 117\u001b[0m     \u001b[38;5;28;01mraise\u001b[39;00m \u001b[38;5;167;01mTypeError\u001b[39;00m(\n\u001b[0;32m    118\u001b[0m         \u001b[38;5;124mf\u001b[39m\u001b[38;5;124m\"\u001b[39m\u001b[38;5;124mParameter grid for parameter \u001b[39m\u001b[38;5;132;01m{\u001b[39;00mkey\u001b[38;5;132;01m!r}\u001b[39;00m\u001b[38;5;124m needs to be a list or a\u001b[39m\u001b[38;5;124m\"\u001b[39m\n\u001b[0;32m    119\u001b[0m         \u001b[38;5;124mf\u001b[39m\u001b[38;5;124m\"\u001b[39m\u001b[38;5;124m numpy array, but got \u001b[39m\u001b[38;5;132;01m{\u001b[39;00mvalue\u001b[38;5;132;01m!r}\u001b[39;00m\u001b[38;5;124m (of type \u001b[39m\u001b[38;5;124m\"\u001b[39m\n\u001b[0;32m    120\u001b[0m         \u001b[38;5;124mf\u001b[39m\u001b[38;5;124m\"\u001b[39m\u001b[38;5;132;01m{\u001b[39;00m\u001b[38;5;28mtype\u001b[39m(value)\u001b[38;5;241m.\u001b[39m\u001b[38;5;18m__name__\u001b[39m\u001b[38;5;132;01m}\u001b[39;00m\u001b[38;5;124m) instead. Single values \u001b[39m\u001b[38;5;124m\"\u001b[39m\n\u001b[0;32m    121\u001b[0m         \u001b[38;5;124m\"\u001b[39m\u001b[38;5;124mneed to be wrapped in a list with one element.\u001b[39m\u001b[38;5;124m\"\u001b[39m\n\u001b[0;32m    122\u001b[0m     )\n\u001b[0;32m    123\u001b[0m \u001b[38;5;28;01mif\u001b[39;00m \u001b[38;5;28mlen\u001b[39m(value) \u001b[38;5;241m==\u001b[39m \u001b[38;5;241m0\u001b[39m:\n\u001b[0;32m    124\u001b[0m     \u001b[38;5;28;01mraise\u001b[39;00m \u001b[38;5;167;01mValueError\u001b[39;00m(\n\u001b[0;32m    125\u001b[0m         \u001b[38;5;124mf\u001b[39m\u001b[38;5;124m\"\u001b[39m\u001b[38;5;124mParameter grid for parameter \u001b[39m\u001b[38;5;132;01m{\u001b[39;00mkey\u001b[38;5;132;01m!r}\u001b[39;00m\u001b[38;5;124m need \u001b[39m\u001b[38;5;124m\"\u001b[39m\n\u001b[0;32m    126\u001b[0m         \u001b[38;5;124mf\u001b[39m\u001b[38;5;124m\"\u001b[39m\u001b[38;5;124mto be a non-empty sequence, got: \u001b[39m\u001b[38;5;132;01m{\u001b[39;00mvalue\u001b[38;5;132;01m!r}\u001b[39;00m\u001b[38;5;124m\"\u001b[39m\n\u001b[0;32m    127\u001b[0m     )\n",
      "\u001b[1;31mTypeError\u001b[0m: Parameter grid for parameter 'random_state' needs to be a list or a numpy array, but got 1 (of type int) instead. Single values need to be wrapped in a list with one element."
     ]
    }
   ],
   "source": [
    "# 아래에 필요한 코드를 작성하고 결과를 확인합니다.\n",
    "from sklearn.model_selection import GridSearchCV\n",
    "# LGB                        \n",
    "param_lgb = {\"learning_rate\" : [0.2,0.3],\n",
    "             \"max_depth\" : [10, 20, 30],\n",
    "             \"num_leaves\" : [100,300],\n",
    "             \"n_estimators\" : [100, 200, 300],\n",
    "             'random_state':1,\n",
    "            }\n",
    "gscv_lgb = GridSearchCV (estimator = LGBMRegressor(random_state=1), param_grid = param_lgb, scoring ='r2', cv = 3, refit=True, n_jobs=1, verbose=2)\n",
    "gscv_lgb.fit(x_train, y_train)"
   ]
  },
  {
   "cell_type": "code",
   "execution_count": 137,
   "id": "20718398-322f-44e1-8895-a96225fe6918",
   "metadata": {
    "tags": []
   },
   "outputs": [
    {
     "data": {
      "text/html": [
       "<style>#sk-container-id-11 {color: black;background-color: white;}#sk-container-id-11 pre{padding: 0;}#sk-container-id-11 div.sk-toggleable {background-color: white;}#sk-container-id-11 label.sk-toggleable__label {cursor: pointer;display: block;width: 100%;margin-bottom: 0;padding: 0.3em;box-sizing: border-box;text-align: center;}#sk-container-id-11 label.sk-toggleable__label-arrow:before {content: \"▸\";float: left;margin-right: 0.25em;color: #696969;}#sk-container-id-11 label.sk-toggleable__label-arrow:hover:before {color: black;}#sk-container-id-11 div.sk-estimator:hover label.sk-toggleable__label-arrow:before {color: black;}#sk-container-id-11 div.sk-toggleable__content {max-height: 0;max-width: 0;overflow: hidden;text-align: left;background-color: #f0f8ff;}#sk-container-id-11 div.sk-toggleable__content pre {margin: 0.2em;color: black;border-radius: 0.25em;background-color: #f0f8ff;}#sk-container-id-11 input.sk-toggleable__control:checked~div.sk-toggleable__content {max-height: 200px;max-width: 100%;overflow: auto;}#sk-container-id-11 input.sk-toggleable__control:checked~label.sk-toggleable__label-arrow:before {content: \"▾\";}#sk-container-id-11 div.sk-estimator input.sk-toggleable__control:checked~label.sk-toggleable__label {background-color: #d4ebff;}#sk-container-id-11 div.sk-label input.sk-toggleable__control:checked~label.sk-toggleable__label {background-color: #d4ebff;}#sk-container-id-11 input.sk-hidden--visually {border: 0;clip: rect(1px 1px 1px 1px);clip: rect(1px, 1px, 1px, 1px);height: 1px;margin: -1px;overflow: hidden;padding: 0;position: absolute;width: 1px;}#sk-container-id-11 div.sk-estimator {font-family: monospace;background-color: #f0f8ff;border: 1px dotted black;border-radius: 0.25em;box-sizing: border-box;margin-bottom: 0.5em;}#sk-container-id-11 div.sk-estimator:hover {background-color: #d4ebff;}#sk-container-id-11 div.sk-parallel-item::after {content: \"\";width: 100%;border-bottom: 1px solid gray;flex-grow: 1;}#sk-container-id-11 div.sk-label:hover label.sk-toggleable__label {background-color: #d4ebff;}#sk-container-id-11 div.sk-serial::before {content: \"\";position: absolute;border-left: 1px solid gray;box-sizing: border-box;top: 0;bottom: 0;left: 50%;z-index: 0;}#sk-container-id-11 div.sk-serial {display: flex;flex-direction: column;align-items: center;background-color: white;padding-right: 0.2em;padding-left: 0.2em;position: relative;}#sk-container-id-11 div.sk-item {position: relative;z-index: 1;}#sk-container-id-11 div.sk-parallel {display: flex;align-items: stretch;justify-content: center;background-color: white;position: relative;}#sk-container-id-11 div.sk-item::before, #sk-container-id-11 div.sk-parallel-item::before {content: \"\";position: absolute;border-left: 1px solid gray;box-sizing: border-box;top: 0;bottom: 0;left: 50%;z-index: -1;}#sk-container-id-11 div.sk-parallel-item {display: flex;flex-direction: column;z-index: 1;position: relative;background-color: white;}#sk-container-id-11 div.sk-parallel-item:first-child::after {align-self: flex-end;width: 50%;}#sk-container-id-11 div.sk-parallel-item:last-child::after {align-self: flex-start;width: 50%;}#sk-container-id-11 div.sk-parallel-item:only-child::after {width: 0;}#sk-container-id-11 div.sk-dashed-wrapped {border: 1px dashed gray;margin: 0 0.4em 0.5em 0.4em;box-sizing: border-box;padding-bottom: 0.4em;background-color: white;}#sk-container-id-11 div.sk-label label {font-family: monospace;font-weight: bold;display: inline-block;line-height: 1.2em;}#sk-container-id-11 div.sk-label-container {text-align: center;}#sk-container-id-11 div.sk-container {/* jupyter's `normalize.less` sets `[hidden] { display: none; }` but bootstrap.min.css set `[hidden] { display: none !important; }` so we also need the `!important` here to be able to override the default hidden behavior on the sphinx rendered scikit-learn.org. See: https://github.com/scikit-learn/scikit-learn/issues/21755 */display: inline-block !important;position: relative;}#sk-container-id-11 div.sk-text-repr-fallback {display: none;}</style><div id=\"sk-container-id-11\" class=\"sk-top-container\"><div class=\"sk-text-repr-fallback\"><pre>LGBMRegressor(learning_rate=0.3, max_depth=20, n_estimators=200, num_leaves=100)</pre><b>In a Jupyter environment, please rerun this cell to show the HTML representation or trust the notebook. <br />On GitHub, the HTML representation is unable to render, please try loading this page with nbviewer.org.</b></div><div class=\"sk-container\" hidden><div class=\"sk-item\"><div class=\"sk-estimator sk-toggleable\"><input class=\"sk-toggleable__control sk-hidden--visually\" id=\"sk-estimator-id-13\" type=\"checkbox\" checked><label for=\"sk-estimator-id-13\" class=\"sk-toggleable__label sk-toggleable__label-arrow\">LGBMRegressor</label><div class=\"sk-toggleable__content\"><pre>LGBMRegressor(learning_rate=0.3, max_depth=20, n_estimators=200, num_leaves=100)</pre></div></div></div></div></div>"
      ],
      "text/plain": [
       "LGBMRegressor(learning_rate=0.3, max_depth=20, n_estimators=200, num_leaves=100)"
      ]
     },
     "execution_count": 137,
     "metadata": {},
     "output_type": "execute_result"
    }
   ],
   "source": [
    "gscv_lgb.best_estimator_"
   ]
  },
  {
   "cell_type": "code",
   "execution_count": 138,
   "id": "4ad467ed-5144-4bbc-85c0-efc22481a9ce",
   "metadata": {
    "tags": []
   },
   "outputs": [
    {
     "name": "stdout",
     "output_type": "stream",
     "text": [
      "0.9129929617884552\n"
     ]
    }
   ],
   "source": [
    "y_pred = gscv_lgb.predict(x_test)\n",
    "\n",
    "print(r2_score(y_test, y_pred))"
   ]
  }
 ],
 "metadata": {
  "kernelspec": {
   "display_name": "Python 3 (ipykernel)",
   "language": "python",
   "name": "python3"
  },
  "language_info": {
   "codemirror_mode": {
    "name": "ipython",
    "version": 3
   },
   "file_extension": ".py",
   "mimetype": "text/x-python",
   "name": "python",
   "nbconvert_exporter": "python",
   "pygments_lexer": "ipython3",
   "version": "3.11.3"
  },
  "vscode": {
   "interpreter": {
    "hash": "f08154012ddadd8e950e6e9e035c7a7b32c136e7647e9b7c77e02eb723a8bedb"
   }
  }
 },
 "nbformat": 4,
 "nbformat_minor": 5
}
